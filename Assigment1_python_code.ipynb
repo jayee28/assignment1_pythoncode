{
 "cells": [
  {
   "cell_type": "code",
   "execution_count": 50,
   "id": "0bb70f72",
   "metadata": {},
   "outputs": [
    {
     "name": "stdout",
     "output_type": "stream",
     "text": [
      "Hello Python\n"
     ]
    }
   ],
   "source": [
    "#Write a Python program to print \"Hello Python\".\n",
    "print(\"Hello\",end=\" \")\n",
    "print(\"Python\")"
   ]
  },
  {
   "cell_type": "code",
   "execution_count": 51,
   "id": "2dff92b9",
   "metadata": {},
   "outputs": [
    {
     "name": "stdout",
     "output_type": "stream",
     "text": [
      "Enter the 1st no:10\n",
      "Enter the 2nd no:5\n",
      "Sum of 10.0 and 5.0 is: 15.0\n",
      "Division of 10.0 and 5.0 is: 2.0\n"
     ]
    }
   ],
   "source": [
    "#Write a Python program to do arithmetical operations addition and division.\n",
    "a = float(input(\"Enter the 1st no:\"))\n",
    "b = float(input(\"Enter the 2nd no:\"))\n",
    "####Addition\n",
    "c = a + b\n",
    "###Division\n",
    "d = a/b\n",
    "print(\"Sum of\",a,\"and\",b,\"is:\",c)\n",
    "print(\"Division of\",a,\"and\",b,\"is:\",d)"
   ]
  },
  {
   "cell_type": "code",
   "execution_count": 7,
   "id": "9123a48f",
   "metadata": {},
   "outputs": [
    {
     "name": "stdout",
     "output_type": "stream",
     "text": [
      "Enter the height of triangle:4\n",
      "Enter the base of triangle:6\n",
      "Area of triangle: 12.0\n"
     ]
    }
   ],
   "source": [
    "#Write a Python program to find the area of a triangle.\n",
    "h = float(input(\"Enter the height of triangle:\"))\n",
    "b = float(input(\"Enter the base of triangle:\"))\n",
    "area = (h*b)/2\n",
    "print(\"Area of triangle:\",area)"
   ]
  },
  {
   "cell_type": "code",
   "execution_count": 9,
   "id": "2a84d4e0",
   "metadata": {},
   "outputs": [
    {
     "name": "stdout",
     "output_type": "stream",
     "text": [
      "Enter the value of x:4\n",
      "Enter the value of y:5\n",
      "x: 5.0\n",
      "y: 4.0\n"
     ]
    }
   ],
   "source": [
    "#Write a Python program to swap two variables.\n",
    "x = float(input(\"Enter the value of x:\"))\n",
    "y = float(input(\"Enter the value of y:\"))\n",
    "i = x\n",
    "sum = 0\n",
    "while (i==x):\n",
    "    sum = sum + y\n",
    "    y = x\n",
    "    x = sum\n",
    "    print(\"x:\",x)\n",
    "    print(\"y:\",y)\n",
    "    break"
   ]
  },
  {
   "cell_type": "code",
   "execution_count": 49,
   "id": "a2802175",
   "metadata": {},
   "outputs": [
    {
     "name": "stdout",
     "output_type": "stream",
     "text": [
      "enter the 1st no:0\n",
      "Enter the 2nd no:10\n",
      "random no: 6\n"
     ]
    }
   ],
   "source": [
    "#Write a Python program to generate a random number.\n",
    "import random\n",
    "a = int(input(\"enter the 1st no:\"))\n",
    "b = int(input(\"Enter the 2nd no:\"))\n",
    "num = random.randint(a,b)\n",
    "print(\"random no:\",num)"
   ]
  },
  {
   "cell_type": "code",
   "execution_count": null,
   "id": "1abffc12",
   "metadata": {},
   "outputs": [],
   "source": []
  }
 ],
 "metadata": {
  "kernelspec": {
   "display_name": "Python 3",
   "language": "python",
   "name": "python3"
  },
  "language_info": {
   "codemirror_mode": {
    "name": "ipython",
    "version": 3
   },
   "file_extension": ".py",
   "mimetype": "text/x-python",
   "name": "python",
   "nbconvert_exporter": "python",
   "pygments_lexer": "ipython3",
   "version": "3.8.8"
  }
 },
 "nbformat": 4,
 "nbformat_minor": 5
}
